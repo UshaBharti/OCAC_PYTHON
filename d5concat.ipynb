{
 "cells": [
  {
   "cell_type": "code",
   "execution_count": null,
   "id": "a9814079-3a18-43bc-8d17-1d7a6986394f",
   "metadata": {},
   "outputs": [],
   "source": [
    "#Assignment\n",
    "#Concatenation\n",
    "#string menthods and user input\n",
    "#conversion\n",
    "#decimals\n",
    "#octal conversions\n",
    "#Floating point errors"
   ]
  },
  {
   "cell_type": "code",
   "execution_count": 22,
   "id": "fb00896f-9b8e-41b5-8423-96116a30757b",
   "metadata": {},
   "outputs": [
    {
     "name": "stdin",
     "output_type": "stream",
     "text": [
      "enter your user name is:  alicia\n",
      "Enter your domain name is:  @gmail.com\n"
     ]
    },
    {
     "name": "stdout",
     "output_type": "stream",
     "text": [
      "Your user name is:alicia\n",
      "Your domain name is:@gmail.com\n",
      "Your email id is:  alicia@gmail.com\n"
     ]
    },
    {
     "data": {
      "text/plain": [
       "['alicia', 'gmail.com']"
      ]
     },
     "execution_count": 22,
     "metadata": {},
     "output_type": "execute_result"
    }
   ],
   "source": [
    "#Assignment\n",
    "#take user input and email and  split email at @ \n",
    "user=input(\"enter your user name is: \")\n",
    "domain=input(\"Enter your domain name is: \")\n",
    "print(\"Your user name is:\"+user)\n",
    "print(\"Your domain name is:\"+domain)\n",
    "print(\"Your email id is: \",user+domain)\n",
    "emailid=str(user+domain)\n",
    "emailid.split('@')\n",
    "#print(emailid)"
   ]
  },
  {
   "cell_type": "code",
   "execution_count": 4,
   "id": "655236c0-8436-4881-9ff6-b7ea105f04e4",
   "metadata": {},
   "outputs": [
    {
     "name": "stdout",
     "output_type": "stream",
     "text": [
      "navin \"laptop\"\n"
     ]
    }
   ],
   "source": [
    "print('navin \"laptop\"')"
   ]
  },
  {
   "cell_type": "code",
   "execution_count": 2,
   "id": "316ea19a-a108-4901-8d8c-6b396c098366",
   "metadata": {},
   "outputs": [
    {
     "name": "stdout",
     "output_type": "stream",
     "text": [
      "This is Epica\n"
     ]
    }
   ],
   "source": [
    "print(\"This is Epica\")"
   ]
  },
  {
   "cell_type": "raw",
   "id": "f4f8cb86-3a67-416f-9cc6-45747bcce988",
   "metadata": {},
   "source": [
    "print(\" navin's \"laptop\"\")"
   ]
  },
  {
   "cell_type": "code",
   "execution_count": 6,
   "id": "f8926a1a-9ea0-423f-9d8a-e518748c7f48",
   "metadata": {},
   "outputs": [
    {
     "name": "stdout",
     "output_type": "stream",
     "text": [
      "navin's \"laptop\"\n"
     ]
    }
   ],
   "source": [
    " print('navin\\'s \"laptop\"')"
   ]
  },
  {
   "cell_type": "code",
   "execution_count": 7,
   "id": "368d52d8-adf0-4f8e-aa57-b535fbcd7338",
   "metadata": {},
   "outputs": [
    {
     "data": {
      "text/plain": [
       "'502'"
      ]
     },
     "execution_count": 7,
     "metadata": {},
     "output_type": "execute_result"
    }
   ],
   "source": [
    "#string can only be converted to int or float if the string contains a numeric no nad not a float no.\n",
    "#if its a decimal...it first needs to be converted to float and then to int\n",
    "#Concatenation\n",
    "#con is only possible with same data type\n",
    "a=\"50\"\n",
    "b=\"2\"\n",
    "a+b"
   ]
  },
  {
   "cell_type": "code",
   "execution_count": 8,
   "id": "b3601cac-5161-4b13-b62f-7c6bf563d591",
   "metadata": {},
   "outputs": [
    {
     "data": {
      "text/plain": [
       "502"
      ]
     },
     "execution_count": 8,
     "metadata": {},
     "output_type": "execute_result"
    }
   ],
   "source": [
    "int(a+b)"
   ]
  },
  {
   "cell_type": "code",
   "execution_count": 9,
   "id": "4dd3cedd-282a-4b57-965c-c097d4285020",
   "metadata": {},
   "outputs": [],
   "source": [
    "alice=\"isn't it awesome\""
   ]
  },
  {
   "cell_type": "code",
   "execution_count": 10,
   "id": "d68414d5-ced9-4c30-8aab-5c9b93216d5b",
   "metadata": {},
   "outputs": [
    {
     "name": "stdout",
     "output_type": "stream",
     "text": [
      "Hello\n"
     ]
    }
   ],
   "source": [
    "a=\"Hello\"\n",
    "print(a)"
   ]
  },
  {
   "cell_type": "code",
   "execution_count": 11,
   "id": "3f450f66-f5e1-4414-bbca-141dd051ea09",
   "metadata": {},
   "outputs": [
    {
     "data": {
      "text/plain": [
       "'Hello'"
      ]
     },
     "execution_count": 11,
     "metadata": {},
     "output_type": "execute_result"
    }
   ],
   "source": [
    "a"
   ]
  },
  {
   "cell_type": "code",
   "execution_count": 23,
   "id": "d6e6eb9b-6000-4270-b25c-791ec0fbc18b",
   "metadata": {},
   "outputs": [
    {
     "data": {
      "text/plain": [
       "'Good Evening'"
      ]
     },
     "execution_count": 23,
     "metadata": {},
     "output_type": "execute_result"
    }
   ],
   "source": [
    "#######didnt changed as the replacing word didnt matched\n",
    "A=\"Good Evening\"\n",
    "B=A.replace(\"its\", \"Shabbakhair\")\n",
    "B"
   ]
  },
  {
   "cell_type": "code",
   "execution_count": 5,
   "id": "c19cf9df-9c20-4bf7-ab7f-34d1ee9d08de",
   "metadata": {},
   "outputs": [
    {
     "data": {
      "text/plain": [
       "'Shabbakhair'"
      ]
     },
     "execution_count": 5,
     "metadata": {},
     "output_type": "execute_result"
    }
   ],
   "source": [
    "####have to enter the replacing word along with the replaced word\n",
    "A=\"Good Evening\"\n",
    "B=A.replace(\"Good Evening\", \"Shabbakhair\")\n",
    "B"
   ]
  },
  {
   "cell_type": "code",
   "execution_count": 6,
   "id": "a85fe895-6442-4607-a879-8dd92b301a8c",
   "metadata": {},
   "outputs": [
    {
     "name": "stdin",
     "output_type": "stream",
     "text": [
      "Which planet are you from:  Miller's Planet\n"
     ]
    },
    {
     "name": "stdout",
     "output_type": "stream",
     "text": [
      "Welcome to Earth Miller's Planet\n"
     ]
    },
    {
     "name": "stdin",
     "output_type": "stream",
     "text": [
      "What's your identity:  Alicia,(homo sapien)\n"
     ]
    },
    {
     "name": "stdout",
     "output_type": "stream",
     "text": [
      "Pleasure\n"
     ]
    },
    {
     "name": "stdin",
     "output_type": "stream",
     "text": [
      "How long will you be staying:  11 earth days\n"
     ]
    },
    {
     "name": "stdout",
     "output_type": "stream",
     "text": [
      "A moment..here is your universal transaltor sir...\n"
     ]
    }
   ],
   "source": [
    "Planet=input(\"Which planet are you from: \")\n",
    "print(\"Welcome to Earth \"+identity)\n",
    "identity=input(\"What's your identity: \")\n",
    "print(\"Pleasure\")\n",
    "Stay=input(\"How long will you be staying: \")\n",
    "print(\"A moment..here is your universal transaltor sir...\")"
   ]
  },
  {
   "cell_type": "code",
   "execution_count": 18,
   "id": "1fcdacc9-0744-452b-a765-97e47360fb55",
   "metadata": {},
   "outputs": [
    {
     "name": "stdin",
     "output_type": "stream",
     "text": [
      "Which planet are you from:  a\n"
     ]
    },
    {
     "name": "stdout",
     "output_type": "stream",
     "text": [
      "Welcome to planet Earth \n"
     ]
    },
    {
     "name": "stdin",
     "output_type": "stream",
     "text": [
      "What's your identity:  a\n",
      "How long will you be staying:  11\n"
     ]
    },
    {
     "name": "stdout",
     "output_type": "stream",
     "text": [
      "Pleasure to have your here a\n",
      "Here is your universal transaltor a\n",
      "Have a wonderful time for your11on Earth\n"
     ]
    }
   ],
   "source": [
    "planet=input(\"Which planet are you from: \")\n",
    "print(\"Welcome to planet Earth \")\n",
    "identity=input(\"What's your identity: \")\n",
    "stay=input(\"How long will you be staying: \")\n",
    "print(\"Pleasure to have your here \"+identity)\n",
    "print(\"Here is your universal transaltor \"+identity)\n",
    "print(\"Have a wonderful time for your\" +str(stay)+ \"on Earth\")\n"
   ]
  },
  {
   "cell_type": "code",
   "execution_count": 1,
   "id": "df672100-92d5-4448-87ed-ce1cfddb7b1f",
   "metadata": {},
   "outputs": [
    {
     "data": {
      "text/plain": [
       "True"
      ]
     },
     "execution_count": 1,
     "metadata": {},
     "output_type": "execute_result"
    }
   ],
   "source": [
    "#isalnum--alpha numeric\n",
    "#isalpha--all alphabet\n",
    "a=\"Euphoria0\"\n",
    "a.isalpha()\n",
    "a.isalnum()"
   ]
  },
  {
   "cell_type": "code",
   "execution_count": null,
   "id": "f2d1bab0-8b8d-46e9-907c-3c75bc54c1d8",
   "metadata": {},
   "outputs": [],
   "source": []
  },
  {
   "cell_type": "code",
   "execution_count": 2,
   "id": "b21a3a03-bb14-41b3-910d-1087197270da",
   "metadata": {},
   "outputs": [
    {
     "name": "stdout",
     "output_type": "stream",
     "text": [
      "9999999999.1\n"
     ]
    }
   ],
   "source": [
    "#float\n",
    "b=9999999999.1000000000000000000000009999999999999\n",
    "print(b)\n"
   ]
  },
  {
   "cell_type": "code",
   "execution_count": 5,
   "id": "be8f9335-79c6-4150-a366-2f118262ac80",
   "metadata": {},
   "outputs": [
    {
     "ename": "TypeError",
     "evalue": "can only concatenate str (not \"float\") to str",
     "output_type": "error",
     "traceback": [
      "\u001b[1;31m---------------------------------------------------------------------------\u001b[0m",
      "\u001b[1;31mTypeError\u001b[0m                                 Traceback (most recent call last)",
      "Cell \u001b[1;32mIn[5], line 4\u001b[0m\n\u001b[0;32m      2\u001b[0m a\u001b[38;5;241m=\u001b[39m\u001b[38;5;124m\"\u001b[39m\u001b[38;5;124m5\u001b[39m\u001b[38;5;124m\"\u001b[39m\n\u001b[0;32m      3\u001b[0m b\u001b[38;5;241m=\u001b[39m\u001b[38;5;241m5.0\u001b[39m\n\u001b[1;32m----> 4\u001b[0m a\u001b[38;5;241m+\u001b[39mb\n",
      "\u001b[1;31mTypeError\u001b[0m: can only concatenate str (not \"float\") to str"
     ]
    }
   ],
   "source": [
    "#TYPE ERROR-indicates variation in error-occurs due to difference in datatypes of the value\n",
    "a=\"5\"\n",
    "b=5.0\n",
    "a+b"
   ]
  },
  {
   "cell_type": "code",
   "execution_count": 3,
   "id": "7172fac8-60b1-4433-8a7e-a61f29e8055b",
   "metadata": {},
   "outputs": [
    {
     "data": {
      "text/plain": [
       "3.2"
      ]
     },
     "execution_count": 3,
     "metadata": {},
     "output_type": "execute_result"
    }
   ],
   "source": [
    "a=3.2\n",
    "b=False\n",
    "a+b"
   ]
  },
  {
   "cell_type": "code",
   "execution_count": 4,
   "id": "25ca4f05-f079-4831-bfca-6fb9500d6e0e",
   "metadata": {},
   "outputs": [
    {
     "data": {
      "text/plain": [
       "3"
      ]
     },
     "execution_count": 4,
     "metadata": {},
     "output_type": "execute_result"
    }
   ],
   "source": [
    "a=3\n",
    "b=False\n",
    "a+b"
   ]
  },
  {
   "cell_type": "code",
   "execution_count": 6,
   "id": "e3a3b862-ce9b-4c62-9cbd-39431640af98",
   "metadata": {},
   "outputs": [
    {
     "data": {
      "text/plain": [
       "-20.0"
      ]
     },
     "execution_count": 6,
     "metadata": {},
     "output_type": "execute_result"
    }
   ],
   "source": [
    "#imag part is taken as a whole\n",
    "a=10+(-20j)\n",
    "a.imag"
   ]
  },
  {
   "cell_type": "code",
   "execution_count": 7,
   "id": "438a9b82-6cde-416b-a3f5-98b5d08fdf36",
   "metadata": {},
   "outputs": [
    {
     "ename": "SyntaxError",
     "evalue": "invalid syntax (3081303649.py, line 2)",
     "output_type": "error",
     "traceback": [
      "\u001b[1;36m  Cell \u001b[1;32mIn[7], line 2\u001b[1;36m\u001b[0m\n\u001b[1;33m    a=10+(-20)j\u001b[0m\n\u001b[1;37m              ^\u001b[0m\n\u001b[1;31mSyntaxError\u001b[0m\u001b[1;31m:\u001b[0m invalid syntax\n"
     ]
    }
   ],
   "source": [
    "#Syntax Eror\n",
    "a=10+(-20)j\n",
    "a.imag"
   ]
  },
  {
   "cell_type": "code",
   "execution_count": 8,
   "id": "90443d43-6423-43ac-a9bc-7af977725705",
   "metadata": {},
   "outputs": [
    {
     "data": {
      "text/plain": [
       "-20.0"
      ]
     },
     "execution_count": 8,
     "metadata": {},
     "output_type": "execute_result"
    }
   ],
   "source": [
    "a=10+-20j\n",
    "a.imag"
   ]
  },
  {
   "cell_type": "code",
   "execution_count": 9,
   "id": "2887ddcf-a3f1-4c9f-9230-966430d404a6",
   "metadata": {},
   "outputs": [
    {
     "ename": "SyntaxError",
     "evalue": "invalid decimal literal (1883577346.py, line 1)",
     "output_type": "error",
     "traceback": [
      "\u001b[1;36m  Cell \u001b[1;32mIn[9], line 1\u001b[1;36m\u001b[0m\n\u001b[1;33m    a=10+(-20k)\u001b[0m\n\u001b[1;37m            ^\u001b[0m\n\u001b[1;31mSyntaxError\u001b[0m\u001b[1;31m:\u001b[0m invalid decimal literal\n"
     ]
    }
   ],
   "source": [
    "#comleax number only takes j as the imag constant\n",
    "a=10+(-20k)\n",
    "a.real"
   ]
  },
  {
   "cell_type": "code",
   "execution_count": 10,
   "id": "c2ddd9d4-4f19-47e0-a9ce-9dc1cee97dcc",
   "metadata": {},
   "outputs": [
    {
     "data": {
      "text/plain": [
       "505"
      ]
     },
     "execution_count": 10,
     "metadata": {},
     "output_type": "execute_result"
    }
   ],
   "source": [
    "a=\"505\"\n",
    "int(a)\n"
   ]
  },
  {
   "cell_type": "code",
   "execution_count": 11,
   "id": "072f3623-a329-4012-bb3b-7c30ed2fb033",
   "metadata": {},
   "outputs": [
    {
     "data": {
      "text/plain": [
       "505.0"
      ]
     },
     "execution_count": 11,
     "metadata": {},
     "output_type": "execute_result"
    }
   ],
   "source": [
    "float(a)"
   ]
  },
  {
   "cell_type": "code",
   "execution_count": 12,
   "id": "d5f833f5-3c90-490c-bc15-9133bd3e81b2",
   "metadata": {},
   "outputs": [
    {
     "data": {
      "text/plain": [
       "505"
      ]
     },
     "execution_count": 12,
     "metadata": {},
     "output_type": "execute_result"
    }
   ],
   "source": [
    "#since floating pointa=\"505.5\"\n",
    "int(a)"
   ]
  },
  {
   "cell_type": "code",
   "execution_count": 13,
   "id": "a9ccda48-29be-4763-a061-d6519b36f855",
   "metadata": {},
   "outputs": [
    {
     "data": {
      "text/plain": [
       "505"
      ]
     },
     "execution_count": 13,
     "metadata": {},
     "output_type": "execute_result"
    }
   ],
   "source": [
    "a=505.5\n",
    "int(a)"
   ]
  }
 ],
 "metadata": {
  "kernelspec": {
   "display_name": "Python 3 (ipykernel)",
   "language": "python",
   "name": "python3"
  },
  "language_info": {
   "codemirror_mode": {
    "name": "ipython",
    "version": 3
   },
   "file_extension": ".py",
   "mimetype": "text/x-python",
   "name": "python",
   "nbconvert_exporter": "python",
   "pygments_lexer": "ipython3",
   "version": "3.11.7"
  }
 },
 "nbformat": 4,
 "nbformat_minor": 5
}
