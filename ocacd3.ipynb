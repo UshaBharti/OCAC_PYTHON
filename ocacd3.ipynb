{
 "cells": [
  {
   "cell_type": "code",
   "execution_count": 1,
   "id": "037e660e-4b63-4b98-b005-ac78acf6f753",
   "metadata": {},
   "outputs": [
    {
     "name": "stdout",
     "output_type": "stream",
     "text": [
      "Hello World\n"
     ]
    }
   ],
   "source": [
    "print(\"Hello World\")\n"
   ]
  },
  {
   "cell_type": "code",
   "execution_count": 2,
   "id": "2be46f4d-b4e3-4c28-a520-8a1f3d49f3f1",
   "metadata": {},
   "outputs": [
    {
     "data": {
      "text/plain": [
       "98"
      ]
     },
     "execution_count": 2,
     "metadata": {},
     "output_type": "execute_result"
    }
   ],
   "source": [
    "a=9\n",
    "b=89\n",
    "a+b"
   ]
  },
  {
   "cell_type": "raw",
   "id": "9c83c584-73df-4e0b-965f-37876929b1d9",
   "metadata": {},
   "source": [
    "a=9\n",
    "b=89\n",
    "a+b"
   ]
  },
  {
   "cell_type": "raw",
   "id": "4d929ec6-edaa-405f-a06f-c2490cba3d1b",
   "metadata": {},
   "source": [
    "a=9\n",
    "b=89\n",
    "a+b"
   ]
  },
  {
   "cell_type": "code",
   "execution_count": 3,
   "id": "ca57c0e8-27c4-412b-bca5-3960183a85d7",
   "metadata": {},
   "outputs": [
    {
     "data": {
      "text/plain": [
       "98"
      ]
     },
     "execution_count": 3,
     "metadata": {},
     "output_type": "execute_result"
    }
   ],
   "source": [
    "a=9\n",
    "b=89\n",
    "a+b"
   ]
  },
  {
   "cell_type": "markdown",
   "id": "f09719c5-7d0f-4a60-b26f-a577da3ab81b",
   "metadata": {},
   "source": [
    "Hello world"
   ]
  },
  {
   "cell_type": "raw",
   "id": "d0d2decd-02ea-455c-b177-44a30726e415",
   "metadata": {},
   "source": [
    "Hello world"
   ]
  },
  {
   "cell_type": "markdown",
   "id": "37808998-8fcb-4b6b-948d-1113f56ed6fe",
   "metadata": {},
   "source": [
    "## Hello world"
   ]
  },
  {
   "cell_type": "code",
   "execution_count": 4,
   "id": "35973779-a0e0-4ce2-9a1f-72617aaf7771",
   "metadata": {},
   "outputs": [
    {
     "data": {
      "text/plain": [
       "'C:\\\\Users\\\\DELL'"
      ]
     },
     "execution_count": 4,
     "metadata": {},
     "output_type": "execute_result"
    }
   ],
   "source": [
    "pwd"
   ]
  },
  {
   "cell_type": "code",
   "execution_count": 1,
   "id": "081de572-5c34-4431-9a70-529e631b0cdb",
   "metadata": {},
   "outputs": [
    {
     "data": {
      "text/plain": [
       "9"
      ]
     },
     "execution_count": 1,
     "metadata": {},
     "output_type": "execute_result"
    }
   ],
   "source": [
    "A=4#Declaring the  variable\n",
    "b=5\n",
    "A+b#Summation\n"
   ]
  },
  {
   "cell_type": "code",
   "execution_count": 2,
   "id": "41fa364b-728d-4af6-af42-444a29c0a9c2",
   "metadata": {},
   "outputs": [
    {
     "ename": "NameError",
     "evalue": "name 'B' is not defined",
     "output_type": "error",
     "traceback": [
      "\u001b[1;31m---------------------------------------------------------------------------\u001b[0m",
      "\u001b[1;31mNameError\u001b[0m                                 Traceback (most recent call last)",
      "Cell \u001b[1;32mIn[2], line 3\u001b[0m\n\u001b[0;32m      1\u001b[0m A\u001b[38;5;241m=\u001b[39m\u001b[38;5;241m4\u001b[39m\u001b[38;5;66;03m#Declaring the  variable\u001b[39;00m\n\u001b[0;32m      2\u001b[0m b\u001b[38;5;241m=\u001b[39m\u001b[38;5;241m5\u001b[39m\n\u001b[1;32m----> 3\u001b[0m A\u001b[38;5;241m+\u001b[39mB\n",
      "\u001b[1;31mNameError\u001b[0m: name 'B' is not defined"
     ]
    }
   ],
   "source": [
    "#Error concept\n",
    "A=4#Declaring the  variable\n",
    "b=5\n",
    "A+B#Summation\n",
    "\"\"\"\"Nmane Error-B variable is not defined\"\"\""
   ]
  },
  {
   "cell_type": "code",
   "execution_count": 3,
   "id": "6d4fa80c-e0be-4391-83c4-5dc3985a035b",
   "metadata": {},
   "outputs": [
    {
     "data": {
      "text/plain": [
       "'Hello world'"
      ]
     },
     "execution_count": 3,
     "metadata": {},
     "output_type": "execute_result"
    }
   ],
   "source": [
    "\"Hello world\"#no need for ,single  and double quote are same \n"
   ]
  },
  {
   "cell_type": "code",
   "execution_count": 4,
   "id": "130c0e0c-b95b-4107-ab68-373a4b25cb5e",
   "metadata": {},
   "outputs": [
    {
     "data": {
      "text/plain": [
       "'Hello World, My name Usha Bharti Prakash'"
      ]
     },
     "execution_count": 4,
     "metadata": {},
     "output_type": "execute_result"
    }
   ],
   "source": [
    "\"\"\"Hello World, My name Usha Bharti Prakash\"\"\""
   ]
  },
  {
   "cell_type": "code",
   "execution_count": 5,
   "id": "37b62c8d-63de-4414-97c4-5c556ad1b9be",
   "metadata": {},
   "outputs": [
    {
     "data": {
      "text/plain": [
       "'Hello World, My name Usha/nBharti Prakash'"
      ]
     },
     "execution_count": 5,
     "metadata": {},
     "output_type": "execute_result"
    }
   ],
   "source": [
    "\"\"\"Hello World, My name Usha/nBharti Prakash\"\"\""
   ]
  },
  {
   "cell_type": "code",
   "execution_count": 6,
   "id": "85012d35-87ab-4372-b471-f9f0878500c6",
   "metadata": {},
   "outputs": [
    {
     "data": {
      "text/plain": [
       "'Hello World, My name Usha\\nBharti\\n Prakash'"
      ]
     },
     "execution_count": 6,
     "metadata": {},
     "output_type": "execute_result"
    }
   ],
   "source": [
    "\"\"\"Hello World, My name Usha\\nBharti\\n Prakash\"\"\""
   ]
  },
  {
   "cell_type": "code",
   "execution_count": 7,
   "id": "682f0996-c8b7-410e-ae1f-cf4052fb2842",
   "metadata": {},
   "outputs": [
    {
     "ename": "NameError",
     "evalue": "name 'B' is not defined",
     "output_type": "error",
     "traceback": [
      "\u001b[1;31m---------------------------------------------------------------------------\u001b[0m",
      "\u001b[1;31mNameError\u001b[0m                                 Traceback (most recent call last)",
      "Cell \u001b[1;32mIn[7], line 4\u001b[0m\n\u001b[0;32m      2\u001b[0m A\u001b[38;5;241m=\u001b[39m\u001b[38;5;241m4\u001b[39m\u001b[38;5;66;03m#Declaring the  variable\u001b[39;00m\n\u001b[0;32m      3\u001b[0m b\u001b[38;5;241m=\u001b[39m\u001b[38;5;241m5\u001b[39m\n\u001b[1;32m----> 4\u001b[0m A\u001b[38;5;241m+\u001b[39mB\n",
      "\u001b[1;31mNameError\u001b[0m: name 'B' is not defined"
     ]
    }
   ],
   "source": [
    "#Error concept\n",
    "\"\"\"Hello World, My name Usha Bharti Prakash\"\"\"\n",
    "A=4#Declaring the  variable\n",
    "b=5\n",
    "A+B#Summation\n"
   ]
  },
  {
   "cell_type": "code",
   "execution_count": 8,
   "id": "82d497fc-5c07-4f6c-89d9-ab74819352a6",
   "metadata": {},
   "outputs": [],
   "source": [
    "########\n"
   ]
  },
  {
   "cell_type": "code",
   "execution_count": 9,
   "id": "4dc8ec60-d224-4359-b622-7b32eeb8e3f2",
   "metadata": {},
   "outputs": [
    {
     "data": {
      "text/plain": [
       "140704264340552"
      ]
     },
     "execution_count": 9,
     "metadata": {},
     "output_type": "execute_result"
    }
   ],
   "source": [
    "a=10\n",
    "id(a)"
   ]
  },
  {
   "cell_type": "code",
   "execution_count": 10,
   "id": "2d53a21b-431d-4dcb-ae07-e360e13ebd95",
   "metadata": {},
   "outputs": [
    {
     "data": {
      "text/plain": [
       "140704264340552"
      ]
     },
     "execution_count": 10,
     "metadata": {},
     "output_type": "execute_result"
    }
   ],
   "source": [
    "b=10\n",
    "id(b)"
   ]
  },
  {
   "cell_type": "code",
   "execution_count": 11,
   "id": "247a8f86-3837-458b-8234-169d6c81f3b5",
   "metadata": {},
   "outputs": [
    {
     "data": {
      "text/plain": [
       "140704264340872"
      ]
     },
     "execution_count": 11,
     "metadata": {},
     "output_type": "execute_result"
    }
   ],
   "source": [
    "c=20\n",
    "id(c)"
   ]
  },
  {
   "cell_type": "code",
   "execution_count": 12,
   "id": "a2d57d00-ad1b-4999-bfd2-ad34d3599b58",
   "metadata": {},
   "outputs": [],
   "source": [
    "d=b+c"
   ]
  },
  {
   "cell_type": "code",
   "execution_count": 13,
   "id": "4ce03c51-58ef-4481-b66a-7487dbe1d028",
   "metadata": {},
   "outputs": [],
   "source": [
    "c=10\n",
    "d=20\n",
    "e=c+d"
   ]
  },
  {
   "cell_type": "code",
   "execution_count": 14,
   "id": "f333a1e9-ce7d-4894-945b-1f1ec6fa089e",
   "metadata": {},
   "outputs": [
    {
     "name": "stdout",
     "output_type": "stream",
     "text": [
      "30\n"
     ]
    }
   ],
   "source": [
    "print(e)"
   ]
  },
  {
   "cell_type": "code",
   "execution_count": 15,
   "id": "1553cf49-7929-4c89-8698-35725f72167c",
   "metadata": {},
   "outputs": [
    {
     "name": "stdout",
     "output_type": "stream",
     "text": [
      "30\n"
     ]
    }
   ],
   "source": [
    "c=10\n",
    "d=20\n",
    "e=c+d\n",
    "print(e)"
   ]
  },
  {
   "cell_type": "code",
   "execution_count": 16,
   "id": "b2c6024f-e7bf-4b83-94d1-b36594ed0c46",
   "metadata": {},
   "outputs": [
    {
     "name": "stdout",
     "output_type": "stream",
     "text": [
      "30\n"
     ]
    },
    {
     "data": {
      "text/plain": [
       "30"
      ]
     },
     "execution_count": 16,
     "metadata": {},
     "output_type": "execute_result"
    }
   ],
   "source": [
    "c=10\n",
    "d=20\n",
    "e=c+d\n",
    "print(e)\n",
    "e"
   ]
  },
  {
   "cell_type": "code",
   "execution_count": 17,
   "id": "aebf64d5-9b86-4fe4-b37e-7995566b0829",
   "metadata": {},
   "outputs": [
    {
     "name": "stdout",
     "output_type": "stream",
     "text": [
      "THE SUM IS:  30\n"
     ]
    },
    {
     "data": {
      "text/plain": [
       "30"
      ]
     },
     "execution_count": 17,
     "metadata": {},
     "output_type": "execute_result"
    }
   ],
   "source": [
    "c=10\n",
    "d=20\n",
    "e=c+d\n",
    "print(\"THE SUM IS: \",e)\n",
    "e"
   ]
  },
  {
   "cell_type": "code",
   "execution_count": 18,
   "id": "5bef8d0e-c77f-4003-8306-65f1376f7535",
   "metadata": {},
   "outputs": [
    {
     "name": "stdout",
     "output_type": "stream",
     "text": [
      "30\n"
     ]
    },
    {
     "data": {
      "text/plain": [
       "990"
      ]
     },
     "execution_count": 18,
     "metadata": {},
     "output_type": "execute_result"
    }
   ],
   "source": [
    "c=10\n",
    "d=20\n",
    "f=990\n",
    "e=c+d\n",
    "print(e)\n",
    "f"
   ]
  },
  {
   "cell_type": "code",
   "execution_count": 20,
   "id": "92669642-a641-41a1-bb4f-4cea90ffff62",
   "metadata": {},
   "outputs": [
    {
     "name": "stdout",
     "output_type": "stream",
     "text": [
      "30\n"
     ]
    },
    {
     "data": {
      "text/plain": [
       "990"
      ]
     },
     "execution_count": 20,
     "metadata": {},
     "output_type": "execute_result"
    }
   ],
   "source": [
    "c=10\n",
    "d=20\n",
    "f=990\n",
    "e=c+d\n",
    "print(e)\n",
    "e\n",
    "f##print funtion will always show the output,bt the very recent  variacle must display as well"
   ]
  },
  {
   "cell_type": "code",
   "execution_count": 21,
   "id": "f2b71e72-8a3c-4468-a903-83f806ba9301",
   "metadata": {},
   "outputs": [
    {
     "ename": "SyntaxError",
     "evalue": "invalid decimal literal (2025420790.py, line 1)",
     "output_type": "error",
     "traceback": [
      "\u001b[1;36m  Cell \u001b[1;32mIn[21], line 1\u001b[1;36m\u001b[0m\n\u001b[1;33m    1a=10\u001b[0m\n\u001b[1;37m    ^\u001b[0m\n\u001b[1;31mSyntaxError\u001b[0m\u001b[1;31m:\u001b[0m invalid decimal literal\n"
     ]
    }
   ],
   "source": [
    "#Error Concept\n",
    "1a=10\n",
    "1a##Ientifier mustn't start with number\n"
   ]
  },
  {
   "cell_type": "code",
   "execution_count": 22,
   "id": "e7436e7e-e57a-4797-8e5d-45e88484339e",
   "metadata": {},
   "outputs": [
    {
     "data": {
      "text/plain": [
       "10"
      ]
     },
     "execution_count": 22,
     "metadata": {},
     "output_type": "execute_result"
    }
   ],
   "source": [
    "_1a=10\n",
    "_1a##Ientifier can start with an underscore\n"
   ]
  },
  {
   "cell_type": "code",
   "execution_count": 23,
   "id": "e5704157-71de-4265-8611-6a5ee726cc36",
   "metadata": {},
   "outputs": [
    {
     "data": {
      "text/plain": [
       "int"
      ]
     },
     "execution_count": 23,
     "metadata": {},
     "output_type": "execute_result"
    }
   ],
   "source": [
    "a=10\n",
    "type(a)"
   ]
  },
  {
   "cell_type": "code",
   "execution_count": 47,
   "id": "fe21bba0-433d-482d-b5b0-681d11668c07",
   "metadata": {},
   "outputs": [
    {
     "name": "stdout",
     "output_type": "stream",
     "text": [
      "['False', 'None', 'True', 'and', 'as', 'assert', 'async', 'await', 'break', 'class', 'continue', 'def', 'del', 'elif', 'else', 'except', 'finally', 'for', 'from', 'global', 'if', 'import', 'in', 'is', 'lambda', 'nonlocal', 'not', 'or', 'pass', 'raise', 'return', 'try', 'while', 'with', 'yield']\n"
     ]
    }
   ],
   "source": [
    "import keyword\n",
    "keywords = keyword.kwlist\n",
    "print(keywords)"
   ]
  },
  {
   "cell_type": "code",
   "execution_count": 43,
   "id": "dd86db6d-8710-461a-ab71-08c86e0fc9a6",
   "metadata": {},
   "outputs": [
    {
     "data": {
      "text/plain": [
       "35"
      ]
     },
     "execution_count": 43,
     "metadata": {},
     "output_type": "execute_result"
    }
   ],
   "source": [
    "len(keywords)\n"
   ]
  },
  {
   "cell_type": "code",
   "execution_count": 46,
   "id": "8876b41d-fd23-4c8f-aae1-5ff04d132cec",
   "metadata": {},
   "outputs": [
    {
     "data": {
      "text/plain": [
       "35"
      ]
     },
     "execution_count": 46,
     "metadata": {},
     "output_type": "execute_result"
    }
   ],
   "source": [
    "len(keywords)"
   ]
  },
  {
   "cell_type": "code",
   "execution_count": 27,
   "id": "3dfb90e0-8bc0-4222-9995-d11139ac4f38",
   "metadata": {},
   "outputs": [
    {
     "name": "stdin",
     "output_type": "stream",
     "text": [
      "Enter your Comany name:  Usha\n",
      "Enter your Employee ID:  RJ75\n"
     ]
    }
   ],
   "source": [
    "b=input(\"Enter your Comany name: \")\n",
    "c=input(\"Enter your Employee ID: \")"
   ]
  },
  {
   "cell_type": "code",
   "execution_count": 28,
   "id": "09c20a9e-0d25-4450-8d5d-4296ee7b6342",
   "metadata": {},
   "outputs": [
    {
     "name": "stdout",
     "output_type": "stream",
     "text": [
      "my name is Usha and my employee id is:  RJ75\n"
     ]
    }
   ],
   "source": [
    "print(\"my name is\",b, \"and my employee id is: \",c)"
   ]
  },
  {
   "cell_type": "code",
   "execution_count": 31,
   "id": "6707c7eb-8f1c-45b1-b7e2-dcb6d437f945",
   "metadata": {},
   "outputs": [
    {
     "name": "stdout",
     "output_type": "stream",
     "text": [
      "my name is Usha and my mployee id is RJ75\n"
     ]
    }
   ],
   "source": [
    "print(\"my name is {} and my mployee id is {}\".format(b,c))    ##.format"
   ]
  },
  {
   "cell_type": "code",
   "execution_count": 33,
   "id": "1012b09b-549b-4e44-8899-ec593ac462c5",
   "metadata": {},
   "outputs": [
    {
     "name": "stdout",
     "output_type": "stream",
     "text": [
      "AI\n"
     ]
    }
   ],
   "source": [
    "a=b=c=\"AI\"\n",
    "print(a)\n"
   ]
  },
  {
   "cell_type": "code",
   "execution_count": 34,
   "id": "ba7fbd71-1cb1-49a6-a575-0ac05523cb76",
   "metadata": {},
   "outputs": [
    {
     "data": {
      "text/plain": [
       "<function print(*args, sep=' ', end='\\n', file=None, flush=False)>"
      ]
     },
     "execution_count": 34,
     "metadata": {},
     "output_type": "execute_result"
    }
   ],
   "source": [
    "a,b,c=10,20,30\n",
    "print"
   ]
  },
  {
   "cell_type": "code",
   "execution_count": 38,
   "id": "8e44a5ab-bbc9-4ba0-b31c-6731f1684f56",
   "metadata": {},
   "outputs": [
    {
     "name": "stdin",
     "output_type": "stream",
     "text": [
      "Enter your Comany name:  ALice\n",
      "Enter your Employee ID:  RJ45\n"
     ]
    }
   ],
   "source": [
    "b=input(\"Enter your Comany name: \")\n",
    "c=input(\"Enter your Employee ID: \")\n"
   ]
  },
  {
   "cell_type": "code",
   "execution_count": null,
   "id": "5220ad03-5945-4077-9b3b-bca92802c59e",
   "metadata": {},
   "outputs": [],
   "source": [
    "print(\"my name is {b} and my mployee id is {c}\".format(b,c))    ##.format"
   ]
  },
  {
   "cell_type": "code",
   "execution_count": 39,
   "id": "4dfd3cd8-eadd-4ac0-a6a1-74fb5e9b4a44",
   "metadata": {},
   "outputs": [
    {
     "name": "stdout",
     "output_type": "stream",
     "text": [
      "Hello Epica how have you been Epica\n"
     ]
    }
   ],
   "source": [
    "print(\"Hello {name} {Greeting} {name}\".format(name=\"Epica\", Greeting=\"how have you been\"))"
   ]
  },
  {
   "cell_type": "code",
   "execution_count": 48,
   "id": "050e7d3c-6f70-4f74-b8b9-b44cbde825aa",
   "metadata": {},
   "outputs": [],
   "source": [
    "#.follow method\n"
   ]
  },
  {
   "cell_type": "code",
   "execution_count": null,
   "id": "82cdac3a-5a6b-4c4d-af5d-bd69f9d88f28",
   "metadata": {},
   "outputs": [],
   "source": [
    "print(\"{t} \\nExploring the world through nature's wave\\n Experiencing the chaos of silence\\n "
   ]
  },
  {
   "cell_type": "code",
   "execution_count": 2,
   "id": "6ebaaf6a-fe27-4e6e-b983-1bad591a1df8",
   "metadata": {},
   "outputs": [
    {
     "name": "stdout",
     "output_type": "stream",
     "text": [
      "I'm a Traveller... \n",
      "Exploring the World through Nature. \n",
      "Listening the loud noise of Silence. \n",
      "Not yet to the Endless Horizon bt Experincing The Infathomable Nature \n",
      "I'm a Traveller... \n",
      "Experincing the language of nature, \n",
      "Ti's cherishing the Beauty of Life and Color..\n",
      "within it's Ginormous Body. \n",
      "I'm a Traveller... \n",
      "Seeing humans cherishing Constant as their believe...\n",
      "while some change as their constant...\n",
      "Cherishing Culture as their Believe,\n",
      " While some Change as their Culture. \n",
      "I'm a Traveller... \n",
      "Exploring the culture through people\n",
      "Exploring the humans through believes. \n",
      "I'm a Traveller... \n",
      "Hearing the beauty of Noise in Silence..\n",
      "CHitters of nature paving through the silence. \n",
      "I'm a Traveller... \n",
      "Exploring the Beyond, \n",
      "paving through the sky Gazing at the Unfathomable,\\Epic And endless universe Speaking out. \n"
     ]
    }
   ],
   "source": [
    "print(\"{refrain1} \\nExploring the World through Nature. \\nListening the loud noise of Silence. \\nNot yet to the Endless Horizon bt {r2} The Infathomable Nature \".format(refrain1=\"I'm a Traveller...\",r2=\"Experincing\"))    ##.format\n",
    "print(\"{refrain1} \\n{r2} the language of nature, \\nTi's cherishing the Beauty of Life and Color..\\nwithin it's Ginormous Body. \".format(refrain1=\"I'm a Traveller...\",r2=\"Experincing\"))    ##.format\n",
    "print(\"{refrain1} \\nSeeing humans cherishing Constant as their believe...\\nwhile some change as their constant...\\nCherishing Culture as their Believe,\\n While some Change as their Culture. \".format(refrain1=\"I'm a Traveller...\",r2=\"Experincing\"))\n",
    "print(\"{refrain1} \\n{r2} the culture through people\\n{r2} the humans through believes. \".format(refrain1=\"I'm a Traveller...\",r2=\"Exploring\"))  \n",
    "print(\"{refrain1} \\nHearing the beauty of Noise in Silence..\\nCHitters of nature paving through the silence. \".format(refrain1=\"I'm a Traveller...\"))\n",
    "print(\"{refrain1} \\n{r2} the Beyond, \\npaving through the sky Gazing at the Unfathomable,\\Epic And endless universe Speaking out. \".format(refrain1=\"I'm a Traveller...\",r2=\"Exploring\")) ##.format##.format"
   ]
  },
  {
   "cell_type": "code",
   "execution_count": null,
   "id": "62c19047-ab06-4f8d-a9a1-2abaac8a19ec",
   "metadata": {},
   "outputs": [],
   "source": []
  }
 ],
 "metadata": {
  "kernelspec": {
   "display_name": "Python 3 (ipykernel)",
   "language": "python",
   "name": "python3"
  },
  "language_info": {
   "codemirror_mode": {
    "name": "ipython",
    "version": 3
   },
   "file_extension": ".py",
   "mimetype": "text/x-python",
   "name": "python",
   "nbconvert_exporter": "python",
   "pygments_lexer": "ipython3",
   "version": "3.11.7"
  }
 },
 "nbformat": 4,
 "nbformat_minor": 5
}
