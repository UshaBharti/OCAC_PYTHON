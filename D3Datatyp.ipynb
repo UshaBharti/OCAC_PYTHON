{
 "cells": [
  {
   "cell_type": "markdown",
   "id": "0d2708b3-3e64-40a9-af11-8da1046715e6",
   "metadata": {},
   "source": [
    "## DATA TYPES"
   ]
  },
  {
   "cell_type": "markdown",
   "id": "d79e6cc5-b3e5-4f11-96ca-d1fb2a2dd0c7",
   "metadata": {},
   "source": [
    "## int\n",
    "a=1001\n",
    "type(a)"
   ]
  },
  {
   "cell_type": "code",
   "execution_count": 3,
   "id": "efa9ad54-d554-45da-9ebe-39f90289425e",
   "metadata": {},
   "outputs": [
    {
     "data": {
      "text/plain": [
       "int"
      ]
     },
     "execution_count": 3,
     "metadata": {},
     "output_type": "execute_result"
    }
   ],
   "source": [
    "i=10\n",
    "type(i)"
   ]
  },
  {
   "cell_type": "markdown",
   "id": "fd641d8c-7316-4bde-871a-2a498d0e78fb",
   "metadata": {},
   "source": [
    "## float"
   ]
  },
  {
   "cell_type": "code",
   "execution_count": 77,
   "id": "4d671c2a-07da-4587-8096-ddb685aa52f3",
   "metadata": {},
   "outputs": [
    {
     "name": "stdout",
     "output_type": "stream",
     "text": [
      "9999999999.1\n"
     ]
    }
   ],
   "source": [
    "b=9999999999.1000000000000000000000009999999999999\n",
    "print(b)"
   ]
  },
  {
   "cell_type": "code",
   "execution_count": 78,
   "id": "39162c10-282a-4354-931a-13153b22f4fe",
   "metadata": {},
   "outputs": [
    {
     "name": "stdout",
     "output_type": "stream",
     "text": [
      "10.501\n"
     ]
    }
   ],
   "source": [
    "a=010.501\n",
    "print(a)"
   ]
  },
  {
   "cell_type": "code",
   "execution_count": 91,
   "id": "b75cae7b-e13b-4ede-a8a2-1a03a9ae4d4d",
   "metadata": {},
   "outputs": [
    {
     "data": {
      "text/plain": [
       "False"
      ]
     },
     "execution_count": 91,
     "metadata": {},
     "output_type": "execute_result"
    }
   ],
   "source": [
    "10.5>10.5"
   ]
  },
  {
   "cell_type": "code",
   "execution_count": 82,
   "id": "ae8d1d0b-eb4d-4685-b002-3614b8f924b6",
   "metadata": {},
   "outputs": [
    {
     "data": {
      "text/plain": [
       "True"
      ]
     },
     "execution_count": 82,
     "metadata": {},
     "output_type": "execute_result"
    }
   ],
   "source": [
    "10.5==10.50"
   ]
  },
  {
   "cell_type": "code",
   "execution_count": 86,
   "id": "1fa51f4b-834d-44cc-aa89-91fafa65cf90",
   "metadata": {},
   "outputs": [
    {
     "name": "stdout",
     "output_type": "stream",
     "text": [
      "5\n"
     ]
    }
   ],
   "source": [
    "print(5)"
   ]
  },
  {
   "cell_type": "code",
   "execution_count": 87,
   "id": "80add7fe-5c91-44f6-9c63-044b4b0634b9",
   "metadata": {},
   "outputs": [
    {
     "name": "stdout",
     "output_type": "stream",
     "text": [
      "5\n"
     ]
    }
   ],
   "source": [
    "#converting octal\n",
    "print(0o005)"
   ]
  },
  {
   "cell_type": "code",
   "execution_count": 89,
   "id": "bd020992-7726-45d1-9cdc-dcca6a1c1725",
   "metadata": {},
   "outputs": [
    {
     "name": "stdout",
     "output_type": "stream",
     "text": [
      "5.0\n"
     ]
    }
   ],
   "source": [
    "print(5.0)"
   ]
  },
  {
   "cell_type": "code",
   "execution_count": 88,
   "id": "b14d8832-1206-4576-8ab0-79be614deb55",
   "metadata": {},
   "outputs": [
    {
     "name": "stdout",
     "output_type": "stream",
     "text": [
      "15.15\n"
     ]
    }
   ],
   "source": [
    "#floating point numbers so displaying exactly the same output\n",
    "print(0015.1500)"
   ]
  },
  {
   "cell_type": "code",
   "execution_count": 90,
   "id": "be39e4e6-b4de-482e-87b9-07dc669f8293",
   "metadata": {},
   "outputs": [
    {
     "name": "stdout",
     "output_type": "stream",
     "text": [
      "5.0\n"
     ]
    }
   ],
   "source": [
    "print(5.00)"
   ]
  },
  {
   "cell_type": "code",
   "execution_count": 72,
   "id": "e851f426-5611-4328-90eb-cf03c0b8a173",
   "metadata": {},
   "outputs": [
    {
     "name": "stdout",
     "output_type": "stream",
     "text": [
      "<class 'int'>\n",
      "<class 'float'>\n"
     ]
    }
   ],
   "source": [
    "#diplaying output\n",
    "#print function always displays the output\n",
    "a=1001\n",
    "print(type(a))\n",
    "b=999.1\n",
    "print(type(b))"
   ]
  },
  {
   "cell_type": "code",
   "execution_count": 2,
   "id": "e5f3f2d1-0232-415f-a3dc-eb83dc0eaa4e",
   "metadata": {},
   "outputs": [
    {
     "data": {
      "text/plain": [
       "float"
      ]
     },
     "execution_count": 2,
     "metadata": {},
     "output_type": "execute_result"
    }
   ],
   "source": [
    "#diplaying output\n",
    "#no print function so only displays the last call\n",
    "a=1001\n",
    "type(a)\n",
    "b=999.1\n",
    "type(b)"
   ]
  },
  {
   "cell_type": "code",
   "execution_count": 17,
   "id": "127d81bc-e690-4f0d-b2a1-4209a2f8f9d6",
   "metadata": {},
   "outputs": [
    {
     "data": {
      "text/plain": [
       "1001.0"
      ]
     },
     "execution_count": 17,
     "metadata": {},
     "output_type": "execute_result"
    }
   ],
   "source": [
    "#Conversions\n",
    "float(a)"
   ]
  },
  {
   "cell_type": "code",
   "execution_count": 18,
   "id": "9ecdf607-393d-4377-94b2-48f48e4dd001",
   "metadata": {},
   "outputs": [
    {
     "data": {
      "text/plain": [
       "999"
      ]
     },
     "execution_count": 18,
     "metadata": {},
     "output_type": "execute_result"
    }
   ],
   "source": [
    "int(b)"
   ]
  },
  {
   "cell_type": "code",
   "execution_count": 19,
   "id": "10b7f13f-42c3-4765-993d-c062251c83f5",
   "metadata": {},
   "outputs": [
    {
     "name": "stdout",
     "output_type": "stream",
     "text": [
      "2000.1\n"
     ]
    }
   ],
   "source": [
    "#Additions\n",
    "c=a+b\n",
    "print(c)"
   ]
  },
  {
   "cell_type": "markdown",
   "id": "b0ade6ba-dea0-4cdd-a03f-f1eced7a45dc",
   "metadata": {},
   "source": [
    "## BOOLEAN"
   ]
  },
  {
   "cell_type": "code",
   "execution_count": 22,
   "id": "5ec8a10e-33ae-4ab5-86a8-6d0e40b56259",
   "metadata": {},
   "outputs": [
    {
     "name": "stdout",
     "output_type": "stream",
     "text": [
      "<class 'bool'>\n"
     ]
    }
   ],
   "source": [
    "a=True\n",
    "print(type(a))"
   ]
  },
  {
   "cell_type": "code",
   "execution_count": 23,
   "id": "7767bcea-0d7d-47bc-b5a2-a681a0970048",
   "metadata": {},
   "outputs": [
    {
     "data": {
      "text/plain": [
       "bool"
      ]
     },
     "execution_count": 23,
     "metadata": {},
     "output_type": "execute_result"
    }
   ],
   "source": [
    "type(True)"
   ]
  },
  {
   "cell_type": "code",
   "execution_count": 24,
   "id": "2ec84c09-726c-4464-9fc9-8eaad57667e3",
   "metadata": {},
   "outputs": [
    {
     "data": {
      "text/plain": [
       "1"
      ]
     },
     "execution_count": 24,
     "metadata": {},
     "output_type": "execute_result"
    }
   ],
   "source": [
    "int(True)"
   ]
  },
  {
   "cell_type": "code",
   "execution_count": 25,
   "id": "7fc49e10-c44c-409e-98b8-d6e3d0c2ee8a",
   "metadata": {},
   "outputs": [
    {
     "data": {
      "text/plain": [
       "True"
      ]
     },
     "execution_count": 25,
     "metadata": {},
     "output_type": "execute_result"
    }
   ],
   "source": [
    "bool(-1)"
   ]
  },
  {
   "cell_type": "code",
   "execution_count": 26,
   "id": "50f25774-6944-472c-9e95-c2ce3c6850e5",
   "metadata": {},
   "outputs": [
    {
     "data": {
      "text/plain": [
       "False"
      ]
     },
     "execution_count": 26,
     "metadata": {},
     "output_type": "execute_result"
    }
   ],
   "source": [
    "bool(0)"
   ]
  },
  {
   "cell_type": "code",
   "execution_count": 27,
   "id": "9526cfcf-c4f7-4943-8272-dc87b51c0ae2",
   "metadata": {},
   "outputs": [
    {
     "data": {
      "text/plain": [
       "2"
      ]
     },
     "execution_count": 27,
     "metadata": {},
     "output_type": "execute_result"
    }
   ],
   "source": [
    "True+True"
   ]
  },
  {
   "cell_type": "code",
   "execution_count": 92,
   "id": "79781eef-513a-44d7-95d5-e6187fab3ee9",
   "metadata": {},
   "outputs": [
    {
     "ename": "NameError",
     "evalue": "name 'Ture' is not defined",
     "output_type": "error",
     "traceback": [
      "\u001b[1;31m---------------------------------------------------------------------------\u001b[0m",
      "\u001b[1;31mNameError\u001b[0m                                 Traceback (most recent call last)",
      "Cell \u001b[1;32mIn[92], line 1\u001b[0m\n\u001b[1;32m----> 1\u001b[0m Ture\u001b[38;5;241m+\u001b[39mfalse\n",
      "\u001b[1;31mNameError\u001b[0m: name 'Ture' is not defined"
     ]
    }
   ],
   "source": [
    "Ture+false\n",
    "#since no variable is defines or declared....."
   ]
  },
  {
   "cell_type": "code",
   "execution_count": 28,
   "id": "b1524ec7-9c64-4b48-85da-2375e90002b5",
   "metadata": {},
   "outputs": [
    {
     "data": {
      "text/plain": [
       "complex"
      ]
     },
     "execution_count": 28,
     "metadata": {},
     "output_type": "execute_result"
    }
   ],
   "source": [
    "#COMPLEX\n",
    "a=22+44j\n",
    "type(a)"
   ]
  },
  {
   "cell_type": "code",
   "execution_count": 31,
   "id": "61bd4071-36f3-49e2-8fc7-61060990a22e",
   "metadata": {},
   "outputs": [
    {
     "name": "stdout",
     "output_type": "stream",
     "text": [
      "22.0\n",
      "44.0\n",
      "22.0 44.0\n"
     ]
    }
   ],
   "source": [
    "#finding out the real and Imaginary part of the complex no.s\n",
    "print(a.real)\n",
    "print(a.imag)\n",
    "print(a.real,a.imag)"
   ]
  },
  {
   "cell_type": "markdown",
   "id": "cd7b13f3-a1bd-4c81-81c5-22218fda6b8e",
   "metadata": {},
   "source": [
    "## STRINGs"
   ]
  },
  {
   "cell_type": "code",
   "execution_count": 65,
   "id": "0a300319-e1bf-4a5f-b0b4-9f83016cee47",
   "metadata": {},
   "outputs": [
    {
     "name": "stdout",
     "output_type": "stream",
     "text": [
      "heyy..williams\n",
      "isn't it amazing\n",
      "ummhm...earth look quite quite from beyond as well\n"
     ]
    }
   ],
   "source": [
    "alice=\"heyy..williams\"\n",
    "print(alice)\n",
    "williams=\"isn't it amazing\"\n",
    "print(williams)\n",
    "alice=\"ummhm...earth look quite quite from beyond as well\"\n",
    "print(alice)"
   ]
  },
  {
   "cell_type": "code",
   "execution_count": 64,
   "id": "1fe86268-0962-44bd-8cc2-42b6c0b4493d",
   "metadata": {},
   "outputs": [
    {
     "data": {
      "text/plain": [
       "str"
      ]
     },
     "execution_count": 64,
     "metadata": {},
     "output_type": "execute_result"
    }
   ],
   "source": [
    "sam=\"This is Alice\"\n",
    "type(sam)"
   ]
  },
  {
   "cell_type": "code",
   "execution_count": 39,
   "id": "371f084a-f598-4f14-899b-2f0f46cda2aa",
   "metadata": {},
   "outputs": [
    {
     "data": {
      "text/plain": [
       "'This is Alice'"
      ]
     },
     "execution_count": 39,
     "metadata": {},
     "output_type": "execute_result"
    }
   ],
   "source": [
    "sam=\"This is Alice\"\n",
    "sam"
   ]
  },
  {
   "cell_type": "code",
   "execution_count": 36,
   "id": "903658d3-8ee7-4709-8948-2b70cdd01859",
   "metadata": {},
   "outputs": [
    {
     "name": "stdout",
     "output_type": "stream",
     "text": [
      "KNOCK KNOCK\n"
     ]
    },
    {
     "name": "stdin",
     "output_type": "stream",
     "text": [
      " whose there\n"
     ]
    },
    {
     "name": "stdout",
     "output_type": "stream",
     "text": [
      "YOU\n"
     ]
    },
    {
     "name": "stdin",
     "output_type": "stream",
     "text": [
      " wou who??\n"
     ]
    },
    {
     "name": "stdout",
     "output_type": "stream",
     "text": [
      "yuuhoooooo\n"
     ]
    }
   ],
   "source": [
    "\n",
    "print(\"KNOCK KNOCK\")\n",
    "input()\n",
    "print(\"YOU\")\n",
    "input()\n",
    "print(\"yuuhoooooo\")"
   ]
  },
  {
   "cell_type": "code",
   "execution_count": 60,
   "id": "1a09cc03-13b3-4032-825b-29f166c539b5",
   "metadata": {},
   "outputs": [
    {
     "name": "stdout",
     "output_type": "stream",
     "text": [
      "KNOCK KNOCK\n"
     ]
    },
    {
     "name": "stdin",
     "output_type": "stream",
     "text": [
      " who's there\n"
     ]
    },
    {
     "name": "stdout",
     "output_type": "stream",
     "text": [
      "Hawai\n"
     ]
    },
    {
     "name": "stdin",
     "output_type": "stream",
     "text": [
      " hawai who??\n"
     ]
    },
    {
     "name": "stdout",
     "output_type": "stream",
     "text": [
      "I'm good..How are you??:>>\n"
     ]
    }
   ],
   "source": [
    "print(\"KNOCK KNOCK\")\n",
    "input()\n",
    "print(\"Hawai\")\n",
    "input()\n",
    "print(\"I'm good..How are you??:>>\")"
   ]
  },
  {
   "cell_type": "markdown",
   "id": "bab9f069-83c9-4b51-afc1-9b6df84ed4ce",
   "metadata": {},
   "source": [
    "## STRING LENGTH AND SLICING,step size"
   ]
  },
  {
   "cell_type": "code",
   "execution_count": 13,
   "id": "4736bc7f-5b0b-4696-8bd0-60c0f30138b0",
   "metadata": {},
   "outputs": [
    {
     "name": "stdout",
     "output_type": "stream",
     "text": [
      "This is Epica\n"
     ]
    }
   ],
   "source": [
    "A=\"This is Epica\"\n",
    "print(A)"
   ]
  },
  {
   "cell_type": "code",
   "execution_count": 5,
   "id": "ede705bd-94ba-44b3-80dd-13e938bd03bf",
   "metadata": {},
   "outputs": [
    {
     "data": {
      "text/plain": [
       "13"
      ]
     },
     "execution_count": 5,
     "metadata": {},
     "output_type": "execute_result"
    }
   ],
   "source": [
    "len(A)"
   ]
  },
  {
   "cell_type": "code",
   "execution_count": 4,
   "id": "f9e9edae-9c01-48c4-ae43-5fde9aa3bc34",
   "metadata": {},
   "outputs": [
    {
     "data": {
      "text/plain": [
       "'acipE si sihT'"
      ]
     },
     "execution_count": 4,
     "metadata": {},
     "output_type": "execute_result"
    }
   ],
   "source": [
    "A[ : :-1]"
   ]
  },
  {
   "cell_type": "code",
   "execution_count": 19,
   "id": "c3b4ddb3-7774-43c6-bfa0-8976010c1e14",
   "metadata": {
    "scrolled": true
   },
   "outputs": [
    {
     "data": {
      "text/plain": [
       "''"
      ]
     },
     "execution_count": 19,
     "metadata": {},
     "output_type": "execute_result"
    }
   ],
   "source": [
    "A[2:7:-1]"
   ]
  },
  {
   "cell_type": "code",
   "execution_count": 46,
   "id": "fbf83481-445f-447a-8b67-a55309a100cd",
   "metadata": {},
   "outputs": [
    {
     "data": {
      "text/plain": [
       "'yya...This is Epica'"
      ]
     },
     "execution_count": 46,
     "metadata": {},
     "output_type": "execute_result"
    }
   ],
   "source": [
    "A=\"heyya...This is Epica\"\n",
    "A[2: ]\n",
    " "
   ]
  },
  {
   "cell_type": "code",
   "execution_count": 95,
   "id": "d1d4d758-84dc-43c7-bc8f-6ca064c77b28",
   "metadata": {},
   "outputs": [
    {
     "data": {
      "text/plain": [
       "'yya...T'"
      ]
     },
     "execution_count": 95,
     "metadata": {},
     "output_type": "execute_result"
    }
   ],
   "source": [
    "A[2:9]"
   ]
  },
  {
   "cell_type": "code",
   "execution_count": 96,
   "id": "8ef50672-2980-44b4-84bf-655ec555b562",
   "metadata": {},
   "outputs": [
    {
     "data": {
      "text/plain": [
       "'acipE si sihT...ayyeh'"
      ]
     },
     "execution_count": 96,
     "metadata": {},
     "output_type": "execute_result"
    }
   ],
   "source": [
    "A[::-1]"
   ]
  },
  {
   "cell_type": "markdown",
   "id": "aa4e3d93-57e7-4c59-9906-791042ef52de",
   "metadata": {},
   "source": [
    "## reverse indexing"
   ]
  },
  {
   "cell_type": "code",
   "execution_count": 47,
   "id": "b0d2bd8f-ef56-483e-ab88-4bcc6f1804eb",
   "metadata": {},
   "outputs": [
    {
     "data": {
      "text/plain": [
       "'cp i'"
      ]
     },
     "execution_count": 47,
     "metadata": {},
     "output_type": "execute_result"
    }
   ],
   "source": [
    "A[-2:-9:-2] "
   ]
  },
  {
   "cell_type": "code",
   "execution_count": 48,
   "id": "ac5b9db1-d83a-4195-be7c-aacf37b06341",
   "metadata": {},
   "outputs": [
    {
     "name": "stdout",
     "output_type": "stream",
     "text": [
      ".\n"
     ]
    }
   ],
   "source": [
    "print(A[5])"
   ]
  },
  {
   "cell_type": "code",
   "execution_count": 6,
   "id": "925a4ca2-ded0-48a1-abb8-1b432b047533",
   "metadata": {},
   "outputs": [
    {
     "ename": "IndexError",
     "evalue": "string index out of range",
     "output_type": "error",
     "traceback": [
      "\u001b[1;31m---------------------------------------------------------------------------\u001b[0m",
      "\u001b[1;31mIndexError\u001b[0m                                Traceback (most recent call last)",
      "Cell \u001b[1;32mIn[6], line 2\u001b[0m\n\u001b[0;32m      1\u001b[0m A\u001b[38;5;241m=\u001b[39m\u001b[38;5;124m\"\u001b[39m\u001b[38;5;124mThis is Epica\u001b[39m\u001b[38;5;124m\"\u001b[39m\n\u001b[1;32m----> 2\u001b[0m \u001b[38;5;28mprint\u001b[39m(A[\u001b[38;5;241m20\u001b[39m])\n",
      "\u001b[1;31mIndexError\u001b[0m: string index out of range"
     ]
    }
   ],
   "source": [
    "A=\"This is Epica\"\n",
    "print(A[20])"
   ]
  },
  {
   "cell_type": "code",
   "execution_count": 59,
   "id": "da20d342-e94f-49d6-82cd-968bdbb10a9f",
   "metadata": {},
   "outputs": [
    {
     "name": "stdout",
     "output_type": "stream",
     "text": [
      "heyya...This is Epica ...hii..how have you been doing\n"
     ]
    }
   ],
   "source": [
    "print(A+\" ...hii..how have you been doing\")\n"
   ]
  },
  {
   "cell_type": "code",
   "execution_count": 50,
   "id": "9a7c67a1-8f44-4892-b366-dee34bf90a20",
   "metadata": {},
   "outputs": [
    {
     "data": {
      "text/plain": [
       "['heyya', '', '', 'This is Epica']"
      ]
     },
     "execution_count": 50,
     "metadata": {},
     "output_type": "execute_result"
    }
   ],
   "source": [
    "A.split('.')"
   ]
  },
  {
   "cell_type": "code",
   "execution_count": 52,
   "id": "d9be7ea9-5d8d-43e0-9c49-2c14f8f85e76",
   "metadata": {},
   "outputs": [
    {
     "data": {
      "text/plain": [
       "'HEYYA...THIS IS EPICA'"
      ]
     },
     "execution_count": 52,
     "metadata": {},
     "output_type": "execute_result"
    }
   ],
   "source": [
    "A.upper()"
   ]
  },
  {
   "cell_type": "code",
   "execution_count": 54,
   "id": "1c60c277-9486-413c-98dc-6b05ccef31b1",
   "metadata": {},
   "outputs": [
    {
     "data": {
      "text/plain": [
       "10"
      ]
     },
     "execution_count": 54,
     "metadata": {},
     "output_type": "execute_result"
    }
   ],
   "source": [
    "A.find(\"i\")\n",
    " "
   ]
  },
  {
   "cell_type": "code",
   "execution_count": 55,
   "id": "270cad91-1edd-44c6-b8e6-06f5c4e2fa51",
   "metadata": {},
   "outputs": [
    {
     "data": {
      "text/plain": [
       "3"
      ]
     },
     "execution_count": 55,
     "metadata": {},
     "output_type": "execute_result"
    }
   ],
   "source": [
    "A.count(\"i\")\n",
    " "
   ]
  },
  {
   "cell_type": "code",
   "execution_count": 56,
   "id": "d212b740-f01f-4156-846b-5d12d565db13",
   "metadata": {},
   "outputs": [
    {
     "data": {
      "text/plain": [
       "'heyya...This is Alice'"
      ]
     },
     "execution_count": 56,
     "metadata": {},
     "output_type": "execute_result"
    }
   ],
   "source": [
    "A.replace(\"Epica\",\"Alice\")"
   ]
  },
  {
   "cell_type": "code",
   "execution_count": 67,
   "id": "498ae1c5-6325-4f04-9d04-64928a51ca3b",
   "metadata": {},
   "outputs": [
    {
     "data": {
      "text/plain": [
       "'1001'"
      ]
     },
     "execution_count": 67,
     "metadata": {},
     "output_type": "execute_result"
    }
   ],
   "source": [
    "#Concatenation\n",
    "a=\"10\"\n",
    "b=\"01\"\n",
    "a+b"
   ]
  },
  {
   "cell_type": "code",
   "execution_count": 8,
   "id": "0bc377f9-1ff7-4afc-b10e-fe4db902bc37",
   "metadata": {},
   "outputs": [
    {
     "data": {
      "text/plain": [
       "str"
      ]
     },
     "execution_count": 8,
     "metadata": {},
     "output_type": "execute_result"
    }
   ],
   "source": [
    "a=\"10\"\n",
    "b=\"01\"\n",
    "a+b\n",
    "type(a+b)"
   ]
  },
  {
   "cell_type": "code",
   "execution_count": 68,
   "id": "f56e3b8f-1834-477e-85cb-88a913a328b4",
   "metadata": {},
   "outputs": [
    {
     "data": {
      "text/plain": [
       "1001"
      ]
     },
     "execution_count": 68,
     "metadata": {},
     "output_type": "execute_result"
    }
   ],
   "source": [
    "int(a+b)"
   ]
  },
  {
   "cell_type": "code",
   "execution_count": 93,
   "id": "6b7194da-805d-4e66-af6a-1fe25c15d7c4",
   "metadata": {},
   "outputs": [
    {
     "data": {
      "text/plain": [
       "'knock knockmewwooooo'"
      ]
     },
     "execution_count": 93,
     "metadata": {},
     "output_type": "execute_result"
    }
   ],
   "source": [
    "'knock knock'+'mewwooooo'"
   ]
  },
  {
   "cell_type": "code",
   "execution_count": null,
   "id": "cf8bd27b-96b1-469a-87e0-a69951fe6415",
   "metadata": {},
   "outputs": [],
   "source": []
  },
  {
   "cell_type": "code",
   "execution_count": null,
   "id": "298bd2df-52ab-4e58-975e-349fca513844",
   "metadata": {},
   "outputs": [],
   "source": []
  },
  {
   "cell_type": "code",
   "execution_count": null,
   "id": "8342c56c-e796-4c17-b84f-52fe4d78e63c",
   "metadata": {},
   "outputs": [],
   "source": []
  }
 ],
 "metadata": {
  "kernelspec": {
   "display_name": "Python 3 (ipykernel)",
   "language": "python",
   "name": "python3"
  },
  "language_info": {
   "codemirror_mode": {
    "name": "ipython",
    "version": 3
   },
   "file_extension": ".py",
   "mimetype": "text/x-python",
   "name": "python",
   "nbconvert_exporter": "python",
   "pygments_lexer": "ipython3",
   "version": "3.11.7"
  }
 },
 "nbformat": 4,
 "nbformat_minor": 5
}
